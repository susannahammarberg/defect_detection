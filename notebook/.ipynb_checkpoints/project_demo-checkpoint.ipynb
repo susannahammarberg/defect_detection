{
 "cells": [
  {
   "cell_type": "markdown",
   "id": "defe1795-070a-41de-a7b9-21cdf85a6117",
   "metadata": {},
   "source": [
    "# Vision System for Defect Detection in Manufacturing\n",
    "\n",
    "Note demo structure:\n",
    "I notebooken visar du projektet steg för steg:\n",
    "\n",
    "    Introduktion: Beskriv syftet med projektet.\n",
    "    Ladda data: Visa hur data laddas in.\n",
    "    Bygga modell: Förklara arkitekturen.\n",
    "    Resultat: Visa grafer, testresultat och analys.\n",
    "    Slutsatser: Sammanfatta vad du har lärt dig och hur det kan förbättras.\n",
    "    \n",
    "\n",
    "Demonstrating a simple vision system for casting product images.\n",
    "\n",
    "Dataset found at: https://www.kaggle.com/datasets/ravirajsinh45/real-life-industrial-dataset-of-casting-product/data"
   ]
  },
  {
   "cell_type": "code",
   "execution_count": 4,
   "id": "84c774fe-c676-468b-b1e0-e31c893335d1",
   "metadata": {},
   "outputs": [],
   "source": [
    "import numpy as np\n",
    "\n",
    "import sys\n",
    "import os\n",
    "\n",
    "import cv2\n",
    "\n",
    "# Hitta projektets rotmapp baserat på nuvarande arbetskatalog\n",
    "project_root = os.path.abspath(os.path.join(os.getcwd(), \"..\"))\n",
    "\n",
    "# Add the src-folder to your system path\n",
    "src_path = os.path.join(project_root, \"src\")\n",
    "sys.path.append(src_path)\n",
    "\n",
    "from model import define_model\n"
   ]
  },
  {
   "cell_type": "markdown",
   "id": "082bf747-e25d-4d79-9eed-67fe1e992102",
   "metadata": {},
   "source": [
    "## Dataset information\n",
    "\n",
    "Plot some example images from the dataset. "
   ]
  },
  {
   "cell_type": "code",
   "execution_count": 5,
   "id": "d8979b80-2b75-407b-bd1e-c8d842d746f3",
   "metadata": {},
   "outputs": [],
   "source": [
    "#flytta till pythonkod\n",
    "\n",
    "\n",
    "def load_images(image_path):\n",
    "    # Load image\n",
    "    img = cv2.imread(image_path, cv2.IMREAD_GRAYSCALE)\n",
    "    if img is None:\n",
    "        raise ValueError(f\"Cannot read image: {image_path}\")\n",
    "    return img\n",
    "\n"
   ]
  },
  {
   "cell_type": "code",
   "execution_count": null,
   "id": "d829794a-d785-4137-9df5-e78cba7c0fdc",
   "metadata": {},
   "outputs": [],
   "source": [
    "paths: "
   ]
  }
 ],
 "metadata": {
  "kernelspec": {
   "display_name": "Python 3 (ipykernel)",
   "language": "python",
   "name": "python3"
  },
  "language_info": {
   "codemirror_mode": {
    "name": "ipython",
    "version": 3
   },
   "file_extension": ".py",
   "mimetype": "text/x-python",
   "name": "python",
   "nbconvert_exporter": "python",
   "pygments_lexer": "ipython3",
   "version": "3.10.13"
  }
 },
 "nbformat": 4,
 "nbformat_minor": 5
}
