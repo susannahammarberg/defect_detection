{
 "cells": [
  {
   "cell_type": "markdown",
   "id": "defe1795-070a-41de-a7b9-21cdf85a6117",
   "metadata": {},
   "source": [
    "## Vision System for Defect Detection in Manufacturing\n",
    "\n",
    "Demonstrating a simple vision system for casting product images.\n",
    "\n",
    "Dataset found at: https://www.kaggle.com/datasets/ravirajsinh45/real-life-industrial-dataset-of-casting-product/data"
   ]
  },
  {
   "cell_type": "code",
   "execution_count": null,
   "id": "84c774fe-c676-468b-b1e0-e31c893335d1",
   "metadata": {},
   "outputs": [],
   "source": []
  }
 ],
 "metadata": {
  "kernelspec": {
   "display_name": "Python 3 (ipykernel)",
   "language": "python",
   "name": "python3"
  },
  "language_info": {
   "codemirror_mode": {
    "name": "ipython",
    "version": 3
   },
   "file_extension": ".py",
   "mimetype": "text/x-python",
   "name": "python",
   "nbconvert_exporter": "python",
   "pygments_lexer": "ipython3",
   "version": "3.10.13"
  }
 },
 "nbformat": 4,
 "nbformat_minor": 5
}
